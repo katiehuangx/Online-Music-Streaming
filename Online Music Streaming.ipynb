{
 "cells": [
  {
   "cell_type": "markdown",
   "id": "481c3208-2988-4c78-97f9-038ccfbe65dc",
   "metadata": {},
   "source": [
    "# Online Music Streaming\n",
    "\n",
    "Reference: [Python Machine Learning Tutorial by Programming with Mosh](https://www.youtube.com/watch?v=7eh4d6sabA0&t=1982s)\n",
    "\n",
    "Based on user profile, suggests music based on their interests.\n",
    "\n",
    "Steps\n",
    "1. Import the data\n",
    "2. Clean the data\n",
    "3. Split data into Training and Test Sets\n",
    "4. Create a model\n",
    "5. Train a model\n",
    "6. Make predictions\n",
    "7. Evaluation and improve\n",
    "\n",
    "***\n",
    "\n",
    "## 1. Import the Data"
   ]
  },
  {
   "cell_type": "code",
   "execution_count": 11,
   "id": "e8f2a62c-974e-4ac9-80fa-627e4066b390",
   "metadata": {},
   "outputs": [],
   "source": [
    "import pandas as pd \n",
    "\n",
    "from sklearn.tree import DecisionTreeClassifier # Decision Tree algorithm\n",
    "from sklearn.model_selection import train_test_split # Easily split dataset to training and test data\n",
    "\n",
    "from sklearn.metrics import accuracy_score # Calculate accuracy of model\n",
    "\n",
    "import joblib # Save and load trained model\n",
    "\n",
    "from sklearn import tree # Visualise Decision Tree"
   ]
  },
  {
   "cell_type": "code",
   "execution_count": 2,
   "id": "9e0dd261-ad30-4249-bcd3-28d49917e0ff",
   "metadata": {},
   "outputs": [
    {
     "data": {
      "text/html": [
       "<div>\n",
       "<style scoped>\n",
       "    .dataframe tbody tr th:only-of-type {\n",
       "        vertical-align: middle;\n",
       "    }\n",
       "\n",
       "    .dataframe tbody tr th {\n",
       "        vertical-align: top;\n",
       "    }\n",
       "\n",
       "    .dataframe thead th {\n",
       "        text-align: right;\n",
       "    }\n",
       "</style>\n",
       "<table border=\"1\" class=\"dataframe\">\n",
       "  <thead>\n",
       "    <tr style=\"text-align: right;\">\n",
       "      <th></th>\n",
       "      <th>age</th>\n",
       "      <th>gender</th>\n",
       "      <th>genre</th>\n",
       "    </tr>\n",
       "  </thead>\n",
       "  <tbody>\n",
       "    <tr>\n",
       "      <th>0</th>\n",
       "      <td>20</td>\n",
       "      <td>1</td>\n",
       "      <td>HipHop</td>\n",
       "    </tr>\n",
       "    <tr>\n",
       "      <th>1</th>\n",
       "      <td>23</td>\n",
       "      <td>1</td>\n",
       "      <td>HipHop</td>\n",
       "    </tr>\n",
       "    <tr>\n",
       "      <th>2</th>\n",
       "      <td>25</td>\n",
       "      <td>1</td>\n",
       "      <td>HipHop</td>\n",
       "    </tr>\n",
       "    <tr>\n",
       "      <th>3</th>\n",
       "      <td>26</td>\n",
       "      <td>1</td>\n",
       "      <td>Jazz</td>\n",
       "    </tr>\n",
       "    <tr>\n",
       "      <th>4</th>\n",
       "      <td>29</td>\n",
       "      <td>1</td>\n",
       "      <td>Jazz</td>\n",
       "    </tr>\n",
       "  </tbody>\n",
       "</table>\n",
       "</div>"
      ],
      "text/plain": [
       "   age  gender   genre\n",
       "0   20       1  HipHop\n",
       "1   23       1  HipHop\n",
       "2   25       1  HipHop\n",
       "3   26       1    Jazz\n",
       "4   29       1    Jazz"
      ]
     },
     "execution_count": 2,
     "metadata": {},
     "output_type": "execute_result"
    }
   ],
   "source": [
    "df = pd.read_csv(\"/Users/katiehuang/Documents/Data Science/Projects/Online Music Streaming/music.csv\")\n",
    "df.head()"
   ]
  },
  {
   "cell_type": "markdown",
   "id": "47f37786-d0de-48fd-96e3-de7cd9f140ad",
   "metadata": {},
   "source": [
    "***\n",
    "\n",
    "## 3. Split Data into Training and Test Data"
   ]
  },
  {
   "cell_type": "code",
   "execution_count": 3,
   "id": "9d281754-ecc5-4138-b742-9157a1004943",
   "metadata": {},
   "outputs": [
    {
     "data": {
      "text/html": [
       "<div>\n",
       "<style scoped>\n",
       "    .dataframe tbody tr th:only-of-type {\n",
       "        vertical-align: middle;\n",
       "    }\n",
       "\n",
       "    .dataframe tbody tr th {\n",
       "        vertical-align: top;\n",
       "    }\n",
       "\n",
       "    .dataframe thead th {\n",
       "        text-align: right;\n",
       "    }\n",
       "</style>\n",
       "<table border=\"1\" class=\"dataframe\">\n",
       "  <thead>\n",
       "    <tr style=\"text-align: right;\">\n",
       "      <th></th>\n",
       "      <th>age</th>\n",
       "      <th>gender</th>\n",
       "    </tr>\n",
       "  </thead>\n",
       "  <tbody>\n",
       "    <tr>\n",
       "      <th>0</th>\n",
       "      <td>20</td>\n",
       "      <td>1</td>\n",
       "    </tr>\n",
       "    <tr>\n",
       "      <th>1</th>\n",
       "      <td>23</td>\n",
       "      <td>1</td>\n",
       "    </tr>\n",
       "    <tr>\n",
       "      <th>2</th>\n",
       "      <td>25</td>\n",
       "      <td>1</td>\n",
       "    </tr>\n",
       "    <tr>\n",
       "      <th>3</th>\n",
       "      <td>26</td>\n",
       "      <td>1</td>\n",
       "    </tr>\n",
       "    <tr>\n",
       "      <th>4</th>\n",
       "      <td>29</td>\n",
       "      <td>1</td>\n",
       "    </tr>\n",
       "    <tr>\n",
       "      <th>5</th>\n",
       "      <td>30</td>\n",
       "      <td>1</td>\n",
       "    </tr>\n",
       "    <tr>\n",
       "      <th>6</th>\n",
       "      <td>31</td>\n",
       "      <td>1</td>\n",
       "    </tr>\n",
       "    <tr>\n",
       "      <th>7</th>\n",
       "      <td>33</td>\n",
       "      <td>1</td>\n",
       "    </tr>\n",
       "    <tr>\n",
       "      <th>8</th>\n",
       "      <td>37</td>\n",
       "      <td>1</td>\n",
       "    </tr>\n",
       "    <tr>\n",
       "      <th>9</th>\n",
       "      <td>20</td>\n",
       "      <td>0</td>\n",
       "    </tr>\n",
       "    <tr>\n",
       "      <th>10</th>\n",
       "      <td>21</td>\n",
       "      <td>0</td>\n",
       "    </tr>\n",
       "    <tr>\n",
       "      <th>11</th>\n",
       "      <td>25</td>\n",
       "      <td>0</td>\n",
       "    </tr>\n",
       "    <tr>\n",
       "      <th>12</th>\n",
       "      <td>26</td>\n",
       "      <td>0</td>\n",
       "    </tr>\n",
       "    <tr>\n",
       "      <th>13</th>\n",
       "      <td>27</td>\n",
       "      <td>0</td>\n",
       "    </tr>\n",
       "    <tr>\n",
       "      <th>14</th>\n",
       "      <td>30</td>\n",
       "      <td>0</td>\n",
       "    </tr>\n",
       "    <tr>\n",
       "      <th>15</th>\n",
       "      <td>31</td>\n",
       "      <td>0</td>\n",
       "    </tr>\n",
       "    <tr>\n",
       "      <th>16</th>\n",
       "      <td>34</td>\n",
       "      <td>0</td>\n",
       "    </tr>\n",
       "    <tr>\n",
       "      <th>17</th>\n",
       "      <td>35</td>\n",
       "      <td>0</td>\n",
       "    </tr>\n",
       "  </tbody>\n",
       "</table>\n",
       "</div>"
      ],
      "text/plain": [
       "    age  gender\n",
       "0    20       1\n",
       "1    23       1\n",
       "2    25       1\n",
       "3    26       1\n",
       "4    29       1\n",
       "5    30       1\n",
       "6    31       1\n",
       "7    33       1\n",
       "8    37       1\n",
       "9    20       0\n",
       "10   21       0\n",
       "11   25       0\n",
       "12   26       0\n",
       "13   27       0\n",
       "14   30       0\n",
       "15   31       0\n",
       "16   34       0\n",
       "17   35       0"
      ]
     },
     "execution_count": 3,
     "metadata": {},
     "output_type": "execute_result"
    }
   ],
   "source": [
    "# Create subset of training / input data\n",
    "X = df.drop(columns=[\"genre\"])\n",
    "X"
   ]
  },
  {
   "cell_type": "code",
   "execution_count": 4,
   "id": "2cc057b8-5262-4dea-922d-670c1bc4db24",
   "metadata": {},
   "outputs": [
    {
     "data": {
      "text/plain": [
       "0        HipHop\n",
       "1        HipHop\n",
       "2        HipHop\n",
       "3          Jazz\n",
       "4          Jazz\n",
       "5          Jazz\n",
       "6     Classical\n",
       "7     Classical\n",
       "8     Classical\n",
       "9         Dance\n",
       "10        Dance\n",
       "11        Dance\n",
       "12     Acoustic\n",
       "13     Acoustic\n",
       "14     Acoustic\n",
       "15    Classical\n",
       "16    Classical\n",
       "17    Classical\n",
       "Name: genre, dtype: object"
      ]
     },
     "execution_count": 4,
     "metadata": {},
     "output_type": "execute_result"
    }
   ],
   "source": [
    "# Create subset of test / output data\n",
    "y = df[\"genre\"]\n",
    "y"
   ]
  },
  {
   "cell_type": "code",
   "execution_count": 5,
   "id": "9c3fd4e6-e491-4c7e-b4bd-ef0060d146fb",
   "metadata": {},
   "outputs": [],
   "source": [
    "# Easier method to split data into training and test data set\n",
    "# Default result is tuples, hence we split them into 4 data sets\n",
    "X_train, X_test, y_train, y_test = train_test_split(X, y, test_size = 0.2)"
   ]
  },
  {
   "cell_type": "markdown",
   "id": "7c8ed1f7-6b9e-4118-a97f-33dac74f2e58",
   "metadata": {},
   "source": [
    "***\n",
    "\n",
    "## 4-6. Create and Train a Model and Make Predictions\n",
    "\n",
    "Decision Tree is one of the machine learning algorithms."
   ]
  },
  {
   "cell_type": "code",
   "execution_count": 6,
   "id": "3b4a0a1e-b7bb-4e81-a6b0-f5b1bd2c42fe",
   "metadata": {},
   "outputs": [
    {
     "data": {
      "text/plain": [
       "array(['Classical', 'Classical', 'Dance', 'Classical'], dtype=object)"
      ]
     },
     "execution_count": 6,
     "metadata": {},
     "output_type": "execute_result"
    }
   ],
   "source": [
    "# Instantiate Decision Tree algorithm into a model\n",
    "model = DecisionTreeClassifier()\n",
    "\n",
    "# Fit the model to our training data set\n",
    "model.fit(X_train, y_train)\n",
    "\n",
    "# Use the model to predict the test data\n",
    "predictions = model.predict(X_test)\n",
    "predictions"
   ]
  },
  {
   "cell_type": "markdown",
   "id": "e997668d-6ba8-4b7b-9869-bcfcb9fbff2f",
   "metadata": {},
   "source": [
    "The general rule of thumb in machine learning is to allocate 70-80% to training and 20% for testing.\n",
    "\n",
    "Then, we can test the results between training and testing data set to calculate the accuracy of the model.\n",
    "\n"
   ]
  },
  {
   "cell_type": "markdown",
   "id": "6b735e86-6a0e-4c9b-a0f2-0c3b9d6e181a",
   "metadata": {},
   "source": [
    "***\n",
    "\n",
    "## 7. Evaluation and Improve"
   ]
  },
  {
   "cell_type": "code",
   "execution_count": 7,
   "id": "f8e94550-c6d5-40f1-bd97-013f0a442bd3",
   "metadata": {},
   "outputs": [
    {
     "data": {
      "text/plain": [
       "1.0"
      ]
     },
     "execution_count": 7,
     "metadata": {},
     "output_type": "execute_result"
    }
   ],
   "source": [
    "# Use accuracy_score to test the accuracy between results based on fitted model and y_test\n",
    "score = accuracy_score(y_test, predictions)\n",
    "score"
   ]
  },
  {
   "cell_type": "markdown",
   "id": "1cb97dd9-3d5e-402c-a983-4b864b3cb881",
   "metadata": {},
   "source": [
    "***\n",
    "\n",
    "## Import Trained Model / Model Persistence\n",
    "\n",
    "Once we're done with training the model, we save the model so that we do not need to train it every single time we have new data set. "
   ]
  },
  {
   "cell_type": "code",
   "execution_count": 8,
   "id": "847c3760-07b3-41e7-b6c2-c6231906261b",
   "metadata": {},
   "outputs": [
    {
     "data": {
      "text/plain": [
       "['music-recommender.joblib']"
      ]
     },
     "execution_count": 8,
     "metadata": {},
     "output_type": "execute_result"
    }
   ],
   "source": [
    "# Save trained model\n",
    "joblib.dump(model, 'music-recommender.joblib') # model name, name of model\n",
    "\n",
    "# Model is saved in the file with ipynb notebook"
   ]
  },
  {
   "cell_type": "markdown",
   "id": "7ebee69a-ebdc-4965-9e47-7c72b22395f6",
   "metadata": {},
   "source": [
    "***\n",
    "\n",
    "## How to Load Trained Model?"
   ]
  },
  {
   "cell_type": "code",
   "execution_count": 9,
   "id": "81f9c832-907e-4306-a932-a55137fdb801",
   "metadata": {},
   "outputs": [],
   "source": [
    "# Load trained model from file\n",
    "model = joblib.load('music-recommender.joblib') # name of model"
   ]
  },
  {
   "cell_type": "code",
   "execution_count": 10,
   "id": "3de79680-aade-40c8-93b5-20e8e1e9cde5",
   "metadata": {},
   "outputs": [
    {
     "data": {
      "text/plain": [
       "array(['HipHop'], dtype=object)"
      ]
     },
     "execution_count": 10,
     "metadata": {},
     "output_type": "execute_result"
    }
   ],
   "source": [
    "# Making predictions using our trained model\n",
    "predictions = model.predict([[21, 1]])\n",
    "predictions"
   ]
  },
  {
   "cell_type": "markdown",
   "id": "38bab06f-d7bb-4b2c-9afe-bff894a6b227",
   "metadata": {},
   "source": [
    "***\n",
    "\n",
    "## Visualize Decision Tree"
   ]
  },
  {
   "cell_type": "code",
   "execution_count": 12,
   "id": "c83c49df-3ccf-4e6c-9e21-ed4f0126da95",
   "metadata": {},
   "outputs": [],
   "source": [
    "# Visualised model using Decision Tree\n",
    "tree.export_graphviz(model, \n",
    "                     out_file='music-recommender.dot', # Name of output file\n",
    "                     feature_names=['age', 'gender'], # Columns of features\n",
    "                     class_names=sorted(y.unique()), # Unique values of y data set\n",
    "                     label='all', # Each node is labelled\n",
    "                     rounded=True, # Rounded edges of node\n",
    "                     filled=True) # Each node is coloured"
   ]
  },
  {
   "cell_type": "markdown",
   "id": "2053b3da-2470-4791-82bd-c7363b2131d6",
   "metadata": {},
   "source": [
    "Open 'music-recommender.dot' file in Visual Code. Download 'dot' and preview the visualisation at the side bar."
   ]
  },
  {
   "cell_type": "code",
   "execution_count": null,
   "id": "c00c00e7-77e9-4cdf-9fdb-8cbbc171b4fd",
   "metadata": {},
   "outputs": [],
   "source": []
  }
 ],
 "metadata": {
  "kernelspec": {
   "display_name": "Python 3",
   "language": "python",
   "name": "python3"
  },
  "language_info": {
   "codemirror_mode": {
    "name": "ipython",
    "version": 3
   },
   "file_extension": ".py",
   "mimetype": "text/x-python",
   "name": "python",
   "nbconvert_exporter": "python",
   "pygments_lexer": "ipython3",
   "version": "3.8.11"
  }
 },
 "nbformat": 4,
 "nbformat_minor": 5
}
